{
 "cells": [
  {
   "cell_type": "code",
   "execution_count": 32,
   "metadata": {},
   "outputs": [],
   "source": [
    "import numpy as np\n",
    "from keras.datasets import imdb\n",
    "from matplotlib import pyplot as plot"
   ]
  },
  {
   "cell_type": "code",
   "execution_count": 3,
   "metadata": {},
   "outputs": [
    {
     "name": "stdout",
     "output_type": "stream",
     "text": [
      "Downloading data from https://s3.amazonaws.com/text-datasets/imdb.npz\n",
      "17465344/17464789 [==============================] - 27s 2us/step\n",
      "17473536/17464789 [==============================] - 27s 2us/step\n"
     ]
    }
   ],
   "source": [
    "(X_train, y_train), (X_test, y_test) = imdb.load_data()"
   ]
  },
  {
   "cell_type": "markdown",
   "metadata": {},
   "source": [
    "# Analysing IMDB data"
   ]
  },
  {
   "cell_type": "code",
   "execution_count": 11,
   "metadata": {},
   "outputs": [
    {
     "data": {
      "text/plain": [
       "array([ list([1, 4, 20, 5, 116, 26, 24, 78, 5, 3066, 15392, 127, 6, 52, 292, 395, 61398, 22470, 21, 4, 20, 7729, 45, 1408, 8, 30, 6, 4857, 8, 6, 569, 20, 4, 1188, 7, 14, 4857, 695, 122, 24, 106, 4, 204, 9636, 96, 42, 33, 222, 122, 24, 459, 44, 2386, 14, 20, 9, 6, 4857, 63, 817, 4, 204, 20, 47, 460, 2984, 46, 49, 479, 18, 178, 5, 14, 20, 144, 130, 121, 4, 204, 778, 42, 33, 222, 485, 56, 8, 12, 24, 31, 7, 9636, 491, 154, 369, 39, 4, 204, 97, 35, 1267, 11, 14, 20, 507, 24, 60, 1046, 6045, 11741, 39394, 11, 4, 204, 9, 11, 4, 20, 21, 29, 299, 6, 340, 275, 109, 4, 204, 304, 273, 11, 6592, 5, 4, 4857, 304, 273, 11, 5554, 4609, 1069, 14, 20, 304, 273, 329, 74, 457, 153, 908, 586, 25, 104, 31, 7, 9636, 196, 58, 369, 62, 97, 35, 1267, 11, 4, 204, 9795, 39346, 46, 112, 626, 39, 2829, 103, 3427, 457, 153, 11, 2829, 198, 64, 6, 171, 26337, 200, 4, 130, 7, 4, 4857, 5, 4, 380, 7, 4, 204, 2394, 1361, 75, 124, 39, 4, 454, 7, 4, 204, 9795, 47, 1084, 457, 153, 11, 1172, 38, 54, 4, 4857, 408, 178, 14, 363, 654, 277, 45, 35, 2384, 8, 4, 1663, 7, 451, 7, 4, 204, 51, 593, 8, 11688, 45, 4, 583, 7, 2386, 15, 93, 14, 22, 140, 1504, 8, 374, 766]),\n",
       "       list([1, 4, 20, 9, 6, 147, 123, 7, 89, 17963, 5, 3961, 4, 3023, 926, 47, 413, 12, 47, 958, 7, 105, 5, 257, 5, 175, 109, 9, 8544, 6, 275, 2385, 7, 415, 57, 109, 9, 1245, 52, 5, 1515, 1025, 4, 1737, 7, 32, 4, 801, 1395, 102, 5, 57, 109, 9, 1245, 78, 247, 32, 26, 43, 275, 4, 20, 9, 6, 55, 404, 4183, 7, 1438, 453, 5, 722, 18, 4, 55, 86, 58, 13, 423, 6, 20, 15, 47, 2841, 49, 1031, 1204, 13, 62, 386, 32, 8, 67, 4, 20, 30570, 14141, 9, 6, 3944, 37, 3380, 148, 2731, 5870, 4807, 7, 2859, 18, 4, 1511, 342, 7, 4, 3994, 21, 14, 9, 4, 65, 7, 89, 59, 461, 6, 823, 2422, 18, 4, 3994, 21, 14, 9, 24, 32, 95, 12, 287, 89, 59, 426, 2007, 50, 5, 54, 59, 1678, 2232, 49, 1356, 476, 89, 4653, 41, 544, 9, 14048, 60, 59, 9, 3429, 39, 4, 292, 95, 59, 426, 169, 6, 292, 7, 823, 2422, 5, 47, 8, 81, 1511, 342, 174, 24, 64, 41, 21, 6, 55, 55, 1058, 612, 7, 105, 26, 13181, 11, 4, 20, 5, 32, 408, 275, 547, 137, 149, 4, 20, 13, 62, 66, 13221, 4, 167, 18, 231, 141, 6, 87, 20, 591, 81, 24, 4146, 8, 717, 12]),\n",
       "       list([1, 4, 20, 9, 6, 227, 1523, 103, 886, 4, 274, 21, 45, 131, 31, 7, 4, 833, 102, 126, 93, 15939, 848, 9, 307, 5, 1851, 6222, 9, 66, 60578, 29, 166, 87, 292, 9255, 4, 1417, 39, 4, 274, 8, 4, 22, 24, 111, 108, 4526, 4, 547, 7, 4, 274, 17, 73, 17, 452, 314, 127]),\n",
       "       ...,\n",
       "       list([1, 87578, 2945, 758, 16, 1075, 120, 6, 810, 7, 1446, 153, 1001, 14012, 34, 2323, 33030, 5, 4, 2351, 4552, 33, 6, 2322, 7, 187, 79673, 1431, 4, 477, 959, 9, 6, 10778, 8671, 7, 700, 274, 405, 748, 15099, 729, 8, 51, 670, 7588, 5, 1265, 3088, 3301, 19, 35692, 543, 3349, 758, 21, 14, 22, 5652, 1270, 1839, 19, 412, 156, 8, 7241, 68, 1590, 5, 3830, 83, 35, 1097, 1125, 2718, 1353, 11, 5315, 328, 5, 428, 4, 22, 272, 17, 151, 12, 47, 77, 44219, 39, 4, 55, 5479, 7, 4, 2177, 667, 23, 63, 12, 16, 448, 5, 4, 3838, 543, 7, 1450, 21617, 29640, 752, 178, 526, 34, 785, 1723, 1485, 20070, 11, 27, 792, 1615, 2016, 36864, 3771, 8703, 39, 85, 108, 11, 4, 1067, 1219, 512, 5, 4, 4991, 1359, 769, 218, 142, 75, 774, 110, 159, 21, 39, 6, 1759, 8456, 12, 9, 19492, 10, 10, 4, 291, 9, 22669, 4, 543, 7, 1450, 9, 6, 13718, 8989, 1061, 19, 465, 17414, 5, 5508, 84602, 4, 1136, 24846, 7, 682, 2131, 1533, 3991, 6, 1523, 2377, 8, 4, 15778, 12687, 7, 4, 12059, 4508, 4, 9527, 9212, 6502, 14369, 3301, 4008, 143, 3991, 5437, 4, 2339, 7, 936, 5, 1940, 5, 4, 13673, 2301, 2550, 9, 5891, 13625, 8, 10038, 2798, 817, 7, 15857, 4, 3950, 1773, 15426, 28234, 4364, 34, 31428, 37594, 11, 4, 631, 1101, 310, 63, 13, 296, 6, 530, 185, 1656, 9, 6970, 3531, 23, 41, 994, 39, 157, 5, 38, 12, 734, 8, 2560, 1255, 87634, 15647, 2274, 3789, 8, 10744, 41, 2028, 13494, 869, 2412, 4, 1317, 8, 4, 3219, 8070, 9, 29596, 3342, 19387, 39989, 7728, 9030, 799, 625, 62681, 9, 11, 888, 5, 28294, 14918, 3467, 11414, 4, 4327, 3123, 1042, 37, 10034, 15426, 17, 27, 205, 577, 10, 10, 4, 3270, 19944, 3990, 543, 7, 1450, 9, 2781, 7, 12532, 7116, 38487, 5808, 6476, 758, 5, 49, 7, 4, 2131, 272, 17, 151, 12, 238, 28, 77, 4902, 39, 827, 3790, 11, 71387, 4436, 3528, 758, 63, 16, 10760, 82, 270, 11, 4, 291, 22669, 190, 466, 14, 10420, 20070, 47, 1075, 35, 1127, 182, 18, 27, 105, 8, 8871, 10409, 356, 22, 1359, 5, 1067, 1219, 4, 959, 9, 35, 744, 4576, 12019, 7, 2494, 1524, 5, 465, 3788, 63, 13, 144, 3081, 2036, 461, 878, 23, 4, 5975, 523, 4, 414, 9, 6, 117, 5610, 33, 211, 5, 4, 65, 151, 1728, 152, 1464, 233, 9546, 204, 549, 18, 4, 277, 63, 13, 197, 16, 6, 4250, 1009, 23, 4, 644, 2063, 21, 36864, 9, 1436, 8, 157, 118, 17, 6, 1114, 1694, 5, 15, 12, 2880, 11, 14, 2904, 566, 30, 9404]),\n",
       "       list([1, 87965, 121, 81, 13, 380, 19, 14, 558, 373, 20, 78, 78, 78, 65, 979, 13, 81, 24, 124, 51, 4, 167, 16, 536, 54, 29, 93, 14, 20, 45585, 1316, 16, 179, 35, 737, 20, 8, 30, 1202, 60, 4, 816, 16, 52, 21, 11, 14, 31, 449, 61, 52, 18, 6, 20, 63, 9, 424, 8, 30, 6, 621, 31, 4, 690, 26, 10937, 78, 50156, 33252, 144, 28, 77, 4, 228, 167, 10, 10, 348, 107, 87, 156, 6, 76, 128, 292, 144, 28, 77, 224, 34, 4, 167, 60, 151, 4, 86, 320, 1870, 4, 236, 1088, 7400, 7, 4, 20, 26, 608, 354, 39, 6463, 5, 7483, 607, 4, 20, 39, 112, 6, 964, 1690, 10, 10, 106, 12, 48, 25, 28, 164, 128, 8, 81, 4, 236, 52, 20, 39, 2859, 13, 296, 5, 13, 81, 106, 6, 3817, 7, 98, 9, 11225, 1095, 5, 3290, 56, 5053]),\n",
       "       list([1, 88325, 733, 7, 14, 706, 40354, 1936, 4, 4423, 12322, 23, 4, 419, 97, 252, 25, 332, 12, 11, 420, 25, 92, 6, 604, 7, 3368, 1828, 125, 83, 4, 933, 1411, 7, 4, 6024, 10805, 8, 26519, 187, 19, 6, 762, 7, 6226, 11, 35, 1626, 6816, 4, 194, 2020, 223, 152, 193, 7880, 8, 14, 5, 4757, 8, 1261, 125, 4, 768, 31, 34, 31, 2256, 17683, 194, 2020, 309, 47, 6, 8849, 4191, 40, 393, 21, 9, 329, 629, 444, 74, 1335, 39, 1335, 5, 4, 48333, 91, 7, 4, 20, 47, 4, 1639, 4173, 156, 4470, 8, 30, 3368, 45514, 187, 11, 4, 1411, 5, 59784, 245, 14, 9, 6, 57, 352, 20, 11, 63, 55, 117, 571, 33, 222, 23, 268, 75, 81, 79, 8, 106, 4, 13537, 7, 4, 5186, 193, 6, 3014, 137, 31, 7, 41, 915, 9732, 3631, 21, 164, 266, 7, 14])], dtype=object)"
      ]
     },
     "execution_count": 11,
     "metadata": {},
     "output_type": "execute_result"
    }
   ],
   "source": [
    "np.unique(X_train)"
   ]
  },
  {
   "cell_type": "code",
   "execution_count": 13,
   "metadata": {},
   "outputs": [
    {
     "data": {
      "text/plain": [
       "(25000,)"
      ]
     },
     "execution_count": 13,
     "metadata": {},
     "output_type": "execute_result"
    }
   ],
   "source": [
    "X_train.shape"
   ]
  },
  {
   "cell_type": "code",
   "execution_count": 14,
   "metadata": {},
   "outputs": [
    {
     "data": {
      "text/plain": [
       "(25000,)"
      ]
     },
     "execution_count": 14,
     "metadata": {},
     "output_type": "execute_result"
    }
   ],
   "source": [
    "y_train.shape"
   ]
  },
  {
   "cell_type": "markdown",
   "metadata": {},
   "source": [
    "# Concatenate data"
   ]
  },
  {
   "cell_type": "code",
   "execution_count": 18,
   "metadata": {},
   "outputs": [],
   "source": [
    "X = np.concatenate((X_train, X_test), axis=0)\n",
    "y = np.concatenate((y_train, y_test), axis=0)"
   ]
  },
  {
   "cell_type": "code",
   "execution_count": 19,
   "metadata": {},
   "outputs": [
    {
     "name": "stdout",
     "output_type": "stream",
     "text": [
      "(50000,)\n",
      "(50000,)\n"
     ]
    }
   ],
   "source": [
    "print(X.shape)\n",
    "print(y.shape)"
   ]
  },
  {
   "cell_type": "markdown",
   "metadata": {},
   "source": [
    "# Checking number of classes"
   ]
  },
  {
   "cell_type": "code",
   "execution_count": 24,
   "metadata": {},
   "outputs": [
    {
     "name": "stdout",
     "output_type": "stream",
     "text": [
      "('Number of classes are', 2)\n",
      "[0 1]\n"
     ]
    }
   ],
   "source": [
    "unique_classes = np.unique(y)\n",
    "print('Number of classes are', len(unique_classes))\n",
    "print(np.unique(y))"
   ]
  },
  {
   "cell_type": "markdown",
   "metadata": {},
   "source": [
    "# Finding number of words"
   ]
  },
  {
   "cell_type": "code",
   "execution_count": 25,
   "metadata": {},
   "outputs": [
    {
     "name": "stdout",
     "output_type": "stream",
     "text": [
      "88585\n"
     ]
    }
   ],
   "source": [
    "print(len(np.unique(np.hstack(X))))"
   ]
  },
  {
   "cell_type": "code",
   "execution_count": 30,
   "metadata": {},
   "outputs": [
    {
     "name": "stdout",
     "output_type": "stream",
     "text": [
      "Mean 234.75892 words 172.911494587\n"
     ]
    }
   ],
   "source": [
    "result = [len(x) for x in X]\n",
    "message = 'Mean {} words {}'.format(\n",
    "    np.mean(result),\n",
    "    np.std(result)\n",
    ")\n",
    "print(message)"
   ]
  },
  {
   "cell_type": "code",
   "execution_count": 33,
   "metadata": {},
   "outputs": [
    {
     "data": {
      "image/png": "[encoded data removed]",
      "text/plain": [
       "<matplotlib.figure.Figure at 0x181c24d450>"
      ]
     },
     "metadata": {},
     "output_type": "display_data"
    }
   ],
   "source": [
    "plot.boxplot(result)\n",
    "plot.show()"
   ]
  },
  {
   "cell_type": "markdown",
   "metadata": {},
   "source": [
    "# Simple Multi-Layer perceptron model for IMDB dataset"
   ]
  },
  {
   "cell_type": "code",
   "execution_count": 36,
   "metadata": {},
   "outputs": [],
   "source": [
    "import numpy as np\n",
    "from keras.datasets import imdb\n",
    "from keras.models import Sequential\n",
    "from keras.layers import Dense, Flatten\n",
    "from keras.layers.embeddings import Embedding\n",
    "from keras.preprocessing import sequence"
   ]
  },
  {
   "cell_type": "code",
   "execution_count": 37,
   "metadata": {
    "collapsed": true
   },
   "outputs": [],
   "source": [
    "seed = 7\n",
    "np.random.seed(seed)"
   ]
  },
  {
   "cell_type": "code",
   "execution_count": 38,
   "metadata": {
    "collapsed": true
   },
   "outputs": [],
   "source": [
    "top_words = 5000\n",
    "(X_train, y_train), (X_test, y_test) = imdb.load_data(num_words=top_words)"
   ]
  },
  {
   "cell_type": "code",
   "execution_count": 39,
   "metadata": {},
   "outputs": [
    {
     "data": {
      "text/plain": [
       "(25000,)"
      ]
     },
     "execution_count": 39,
     "metadata": {},
     "output_type": "execute_result"
    }
   ],
   "source": [
    "X_train.shape"
   ]
  },
  {
   "cell_type": "code",
   "execution_count": 41,
   "metadata": {},
   "outputs": [],
   "source": [
    "max_words = 500\n",
    "X_train = sequence.pad_sequences(X_train, maxlen=max_words)\n",
    "X_test = sequence.pad_sequences(X_test, maxlen=max_words)"
   ]
  },
  {
   "cell_type": "markdown",
   "metadata": {},
   "source": [
    "# Model construction"
   ]
  },
  {
   "cell_type": "code",
   "execution_count": 42,
   "metadata": {},
   "outputs": [
    {
     "name": "stdout",
     "output_type": "stream",
     "text": [
      "_________________________________________________________________\n",
      "Layer (type)                 Output Shape              Param #   \n",
      "=================================================================\n",
      "embedding_1 (Embedding)      (None, 500, 32)           160000    \n",
      "_________________________________________________________________\n",
      "flatten_1 (Flatten)          (None, 16000)             0         \n",
      "_________________________________________________________________\n",
      "dense_1 (Dense)              (None, 250)               4000250   \n",
      "_________________________________________________________________\n",
      "dense_2 (Dense)              (None, 1)                 251       \n",
      "=================================================================\n",
      "Total params: 4,160,501\n",
      "Trainable params: 4,160,501\n",
      "Non-trainable params: 0\n",
      "_________________________________________________________________\n",
      "None\n"
     ]
    }
   ],
   "source": [
    "model = Sequential()\n",
    "model.add(Embedding(top_words, 32, input_length=max_words))\n",
    "model.add(Flatten())\n",
    "model.add(Dense(250, activation='relu'))\n",
    "model.add(Dense(1, activation='sigmoid'))\n",
    "model.compile(loss='binary_crossentropy', optimizer='adam', metrics=['accuracy'])\n",
    "print(model.summary())"
   ]
  },
  {
   "cell_type": "code",
   "execution_count": null,
   "metadata": {},
   "outputs": [
    {
     "name": "stdout",
     "output_type": "stream",
     "text": [
      "Train on 25000 samples, validate on 25000 samples\n",
      "Epoch 1/2\n",
      " - 23s - loss: 0.5119 - acc: 0.7085 - val_loss: 0.3429 - val_acc: 0.8498\n",
      "Epoch 2/2\n"
     ]
    }
   ],
   "source": [
    "model.fit(X_train, y_train, validation_data=(X_test, y_test), epochs=2, batch_size=128, verbose=2)"
   ]
  },
  {
   "cell_type": "code",
   "execution_count": null,
   "metadata": {
    "collapsed": true
   },
   "outputs": [],
   "source": []
  }
 ],
 "metadata": {
  "kernelspec": {
   "display_name": "Python 2",
   "language": "python",
   "name": "python2"
  },
  "language_info": {
   "codemirror_mode": {
    "name": "ipython",
    "version": 2
   },
   "file_extension": ".py",
   "mimetype": "text/x-python",
   "name": "python",
   "nbconvert_exporter": "python",
   "pygments_lexer": "ipython2",
   "version": "2.7.14"
  }
 },
 "nbformat": 4,
 "nbformat_minor": 2
}
