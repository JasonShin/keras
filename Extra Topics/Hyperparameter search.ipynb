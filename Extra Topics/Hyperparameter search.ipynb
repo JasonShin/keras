{
 "cells": [
  {
   "cell_type": "markdown",
   "metadata": {},
   "source": [
    "# Network architecture\n",
    "\n",
    "1. Layers\n",
    "2. Nodes\n",
    "3. Layer types\n",
    "4. Activation Function"
   ]
  },
  {
   "cell_type": "markdown",
   "metadata": {},
   "source": [
    "# Regularization\n",
    "\n",
    "1. Batch Norm: Yes/No\n",
    "2. Dropout: yes/no\n",
    "    - Probability\n",
    "3. Weights regularization: yes / no\n",
    "4. Weight initialization: Gaussian, Uniform, Scaled..."
   ]
  },
  {
   "cell_type": "markdown",
   "metadata": {},
   "source": [
    "# Data Augmentation\n",
    "- Transformations"
   ]
  },
  {
   "cell_type": "markdown",
   "metadata": {},
   "source": [
    "# Optimizer\n",
    "\n",
    "1) Type: Adam, SGD, Adadelta\n",
    "\n",
    "2) Learning Rate\n",
    "\n",
    "3) Otyher optimizer parameters\n",
    "\n",
    "4) Batch size"
   ]
  },
  {
   "cell_type": "markdown",
   "metadata": {},
   "source": [
    "## How to find the best hyperparameters?\n",
    "\n",
    "### experiment\n",
    "\n",
    "- Set params\n",
    "- Train for fixed number of epochs\n",
    "- Check train/test scores\n",
    "\n",
    "Workers test and report to master\n",
    "\n",
    "Methods\n",
    "- Random\n",
    "- Grid search\n",
    "- Bayesian Optimization"
   ]
  },
  {
   "cell_type": "code",
   "execution_count": null,
   "metadata": {
    "collapsed": true
   },
   "outputs": [],
   "source": [
    "### Grid search\n",
    "\n",
    "- Assigning range to each params\n",
    "\n",
    "### Random sample\n",
    "\n",
    "- Better distribution vs irrelevant distribution"
   ]
  }
 ],
 "metadata": {
  "kernelspec": {
   "display_name": "Python 3",
   "language": "python",
   "name": "python3"
  },
  "language_info": {
   "codemirror_mode": {
    "name": "ipython",
    "version": 3
   },
   "file_extension": ".py",
   "mimetype": "text/x-python",
   "name": "python",
   "nbconvert_exporter": "python",
   "pygments_lexer": "ipython3",
   "version": "3.5.4"
  }
 },
 "nbformat": 4,
 "nbformat_minor": 2
}
