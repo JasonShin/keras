{
 "cells": [
  {
   "cell_type": "code",
   "execution_count": 2,
   "metadata": {},
   "outputs": [],
   "source": [
    "import pandas as pd\n",
    "import numpy as np\n",
    "%matplotlib inline\n",
    "import matplotlib.pyplot as plt"
   ]
  },
  {
   "cell_type": "code",
   "execution_count": 3,
   "metadata": {
    "collapsed": true
   },
   "outputs": [],
   "source": [
    "df = pd.read_csv('data/cansim-0800020-eng-6674700030567901031.csv', skiprows=6, skipfooter=9, engine='python')"
   ]
  },
  {
   "cell_type": "code",
   "execution_count": 5,
   "metadata": {},
   "outputs": [
    {
     "data": {
      "text/html": [
       "<div>\n",
       "<style>\n",
       "    .dataframe thead tr:only-child th {\n",
       "        text-align: right;\n",
       "    }\n",
       "\n",
       "    .dataframe thead th {\n",
       "        text-align: left;\n",
       "    }\n",
       "\n",
       "    .dataframe tbody tr th {\n",
       "        vertical-align: top;\n",
       "    }\n",
       "</style>\n",
       "<table border=\"1\" class=\"dataframe\">\n",
       "  <thead>\n",
       "    <tr style=\"text-align: right;\">\n",
       "      <th></th>\n",
       "      <th>Adjustments</th>\n",
       "      <th>Unadjusted</th>\n",
       "      <th>Seasonally adjusted</th>\n",
       "    </tr>\n",
       "  </thead>\n",
       "  <tbody>\n",
       "    <tr>\n",
       "      <th>0</th>\n",
       "      <td>Jan-1991</td>\n",
       "      <td>12588862</td>\n",
       "      <td>15026890</td>\n",
       "    </tr>\n",
       "    <tr>\n",
       "      <th>1</th>\n",
       "      <td>Feb-1991</td>\n",
       "      <td>12154321</td>\n",
       "      <td>15304585</td>\n",
       "    </tr>\n",
       "    <tr>\n",
       "      <th>2</th>\n",
       "      <td>Mar-1991</td>\n",
       "      <td>14337072</td>\n",
       "      <td>15413591</td>\n",
       "    </tr>\n",
       "    <tr>\n",
       "      <th>3</th>\n",
       "      <td>Apr-1991</td>\n",
       "      <td>15108570</td>\n",
       "      <td>15293409</td>\n",
       "    </tr>\n",
       "    <tr>\n",
       "      <th>4</th>\n",
       "      <td>May-1991</td>\n",
       "      <td>17225734</td>\n",
       "      <td>15676083</td>\n",
       "    </tr>\n",
       "  </tbody>\n",
       "</table>\n",
       "</div>"
      ],
      "text/plain": [
       "  Adjustments  Unadjusted  Seasonally adjusted\n",
       "0    Jan-1991    12588862             15026890\n",
       "1    Feb-1991    12154321             15304585\n",
       "2    Mar-1991    14337072             15413591\n",
       "3    Apr-1991    15108570             15293409\n",
       "4    May-1991    17225734             15676083"
      ]
     },
     "execution_count": 5,
     "metadata": {},
     "output_type": "execute_result"
    }
   ],
   "source": [
    "df.head()"
   ]
  },
  {
   "cell_type": "code",
   "execution_count": 7,
   "metadata": {},
   "outputs": [],
   "source": [
    "from pandas.tseries.offsets import MonthEnd"
   ]
  },
  {
   "cell_type": "code",
   "execution_count": 13,
   "metadata": {},
   "outputs": [
    {
     "data": {
      "text/html": [
       "<div>\n",
       "<style>\n",
       "    .dataframe thead tr:only-child th {\n",
       "        text-align: right;\n",
       "    }\n",
       "\n",
       "    .dataframe thead th {\n",
       "        text-align: left;\n",
       "    }\n",
       "\n",
       "    .dataframe tbody tr th {\n",
       "        vertical-align: top;\n",
       "    }\n",
       "</style>\n",
       "<table border=\"1\" class=\"dataframe\">\n",
       "  <thead>\n",
       "    <tr style=\"text-align: right;\">\n",
       "      <th></th>\n",
       "      <th>Unadjusted</th>\n",
       "      <th>Seasonally adjusted</th>\n",
       "    </tr>\n",
       "    <tr>\n",
       "      <th>Adjustments</th>\n",
       "      <th></th>\n",
       "      <th></th>\n",
       "    </tr>\n",
       "  </thead>\n",
       "  <tbody>\n",
       "    <tr>\n",
       "      <th>1991-02-28</th>\n",
       "      <td>12588862</td>\n",
       "      <td>15026890</td>\n",
       "    </tr>\n",
       "    <tr>\n",
       "      <th>1991-03-31</th>\n",
       "      <td>12154321</td>\n",
       "      <td>15304585</td>\n",
       "    </tr>\n",
       "    <tr>\n",
       "      <th>1991-04-30</th>\n",
       "      <td>14337072</td>\n",
       "      <td>15413591</td>\n",
       "    </tr>\n",
       "    <tr>\n",
       "      <th>1991-05-31</th>\n",
       "      <td>15108570</td>\n",
       "      <td>15293409</td>\n",
       "    </tr>\n",
       "    <tr>\n",
       "      <th>1991-06-30</th>\n",
       "      <td>17225734</td>\n",
       "      <td>15676083</td>\n",
       "    </tr>\n",
       "  </tbody>\n",
       "</table>\n",
       "</div>"
      ],
      "text/plain": [
       "             Unadjusted  Seasonally adjusted\n",
       "Adjustments                                 \n",
       "1991-02-28     12588862             15026890\n",
       "1991-03-31     12154321             15304585\n",
       "1991-04-30     14337072             15413591\n",
       "1991-05-31     15108570             15293409\n",
       "1991-06-30     17225734             15676083"
      ]
     },
     "execution_count": 13,
     "metadata": {},
     "output_type": "execute_result"
    }
   ],
   "source": [
    "df['Adjustments'] = pd.to_datetime(df['Adjustments']) + MonthEnd(1)\n",
    "df = df.set_index('Adjustments')\n",
    "df.head()"
   ]
  },
  {
   "cell_type": "code",
   "execution_count": 14,
   "metadata": {},
   "outputs": [
    {
     "data": {
      "text/plain": [
       "<matplotlib.axes._subplots.AxesSubplot at 0x10a720cd0>"
      ]
     },
     "execution_count": 14,
     "metadata": {},
     "output_type": "execute_result"
    },
    {
     "data": {
      "image/png": "[encoded data removed]",
      "text/plain": [
       "<matplotlib.figure.Figure at 0x10a720a50>"
      ]
     },
     "metadata": {},
     "output_type": "display_data"
    }
   ],
   "source": [
    "df.plot()"
   ]
  },
  {
   "cell_type": "code",
   "execution_count": 15,
   "metadata": {
    "collapsed": true
   },
   "outputs": [],
   "source": [
    "split_date = pd.Timestamp('01-01-2011')"
   ]
  },
  {
   "cell_type": "code",
   "execution_count": 16,
   "metadata": {},
   "outputs": [
    {
     "data": {
      "text/plain": [
       "Timestamp('2011-01-01 00:00:00')"
      ]
     },
     "execution_count": 16,
     "metadata": {},
     "output_type": "execute_result"
    }
   ],
   "source": [
    "split_date"
   ]
  },
  {
   "cell_type": "code",
   "execution_count": 18,
   "metadata": {},
   "outputs": [],
   "source": [
    "# From beginning upto splitdate\n",
    "train = df.loc[:split_date, ['Unadjusted']]\n",
    "# From splitdate to the end\n",
    "test = df.loc[split_date:, ['Unadjusted']]"
   ]
  },
  {
   "cell_type": "code",
   "execution_count": 21,
   "metadata": {},
   "outputs": [
    {
     "data": {
      "text/plain": [
       "<matplotlib.legend.Legend at 0x112dd9c50>"
      ]
     },
     "execution_count": 21,
     "metadata": {},
     "output_type": "execute_result"
    },
    {
     "data": {
      "image/png": "[encoded data removed]",
      "text/plain": [
       "<matplotlib.figure.Figure at 0x112dd9890>"
      ]
     },
     "metadata": {},
     "output_type": "display_data"
    }
   ],
   "source": [
    "ax = train.plot()\n",
    "test.plot(ax=ax)\n",
    "plt.legend(['train', 'test'])"
   ]
  },
  {
   "cell_type": "code",
   "execution_count": 22,
   "metadata": {
    "collapsed": true
   },
   "outputs": [],
   "source": [
    "from sklearn.preprocessing import MinMaxScaler"
   ]
  },
  {
   "cell_type": "code",
   "execution_count": 23,
   "metadata": {
    "collapsed": true
   },
   "outputs": [],
   "source": [
    "sc = MinMaxScaler()\n",
    "\n",
    "train_sc = sc.fit_transform(train)\n",
    "test_sc = sc.transform(test)"
   ]
  },
  {
   "cell_type": "code",
   "execution_count": 31,
   "metadata": {},
   "outputs": [
    {
     "data": {
      "text/plain": [
       "array([[ 0.01508014],\n",
       "       [ 0.        ],\n",
       "       [ 0.07574934],\n",
       "       [ 0.10252311]])"
      ]
     },
     "execution_count": 31,
     "metadata": {},
     "output_type": "execute_result"
    }
   ],
   "source": [
    "train_sc[:4]"
   ]
  },
  {
   "cell_type": "markdown",
   "metadata": {},
   "source": [
    "# Data split"
   ]
  },
  {
   "cell_type": "code",
   "execution_count": 40,
   "metadata": {},
   "outputs": [
    {
     "name": "stdout",
     "output_type": "stream",
     "text": [
      "[[ 0.        ]\n",
      " [ 0.07574934]\n",
      " [ 0.10252311]\n",
      " [ 0.17599635]\n",
      " [ 0.1453565 ]\n",
      " [ 0.13332857]\n",
      " [ 0.13571156]\n",
      " [ 0.0992869 ]\n",
      " [ 0.11981571]\n",
      " [ 0.14169641]\n",
      " [ 0.21610005]\n",
      " [ 0.03229664]\n",
      " [ 0.02150413]\n",
      " [ 0.07094994]\n",
      " [ 0.11813349]\n",
      " [ 0.1604027 ]\n",
      " [ 0.15831476]\n",
      " [ 0.15558192]\n",
      " [ 0.12797839]\n",
      " [ 0.12694856]\n",
      " [ 0.15297168]\n",
      " [ 0.13400967]\n",
      " [ 0.26126962]\n",
      " [ 0.05269417]\n",
      " [ 0.02590319]\n",
      " [ 0.10610761]\n",
      " [ 0.15574721]\n",
      " [ 0.18351562]\n",
      " [ 0.18357354]\n",
      " [ 0.18934308]\n",
      " [ 0.15586569]\n",
      " [ 0.16088626]\n",
      " [ 0.16544718]\n",
      " [ 0.17248695]\n",
      " [ 0.30448557]\n",
      " [ 0.06422726]\n",
      " [ 0.05707904]\n",
      " [ 0.16348275]\n",
      " [ 0.18532659]\n",
      " [ 0.22852981]\n",
      " [ 0.24879575]\n",
      " [ 0.21320209]\n",
      " [ 0.20638131]\n",
      " [ 0.20846793]\n",
      " [ 0.20282714]\n",
      " [ 0.22079983]\n",
      " [ 0.36557917]\n",
      " [ 0.09625654]\n",
      " [ 0.08211923]\n",
      " [ 0.18403867]\n",
      " [ 0.19502688]\n",
      " [ 0.26328132]\n",
      " [ 0.28335982]\n",
      " [ 0.22880015]\n",
      " [ 0.24730502]\n",
      " [ 0.23273093]\n",
      " [ 0.20901399]\n",
      " [ 0.23628239]\n",
      " [ 0.35239988]\n",
      " [ 0.11191099]\n",
      " [ 0.11686997]\n",
      " [ 0.18945216]\n",
      " [ 0.21749045]\n",
      " [ 0.29394817]\n",
      " [ 0.27572114]\n",
      " [ 0.25225927]\n",
      " [ 0.26843376]\n",
      " [ 0.22332642]\n",
      " [ 0.26138976]\n",
      " [ 0.28244729]\n",
      " [ 0.37284378]\n",
      " [ 0.16407868]\n",
      " [ 0.13462517]\n",
      " [ 0.21069021]\n",
      " [ 0.2872748 ]\n",
      " [ 0.3623198 ]\n",
      " [ 0.32702682]\n",
      " [ 0.32676311]\n",
      " [ 0.30925996]\n",
      " [ 0.2907637 ]\n",
      " [ 0.32402215]\n",
      " [ 0.30367136]\n",
      " [ 0.46339244]\n",
      " [ 0.1937122 ]\n",
      " [ 0.16111836]\n",
      " [ 0.25175951]\n",
      " [ 0.32438702]\n",
      " [ 0.38724463]\n",
      " [ 0.36440466]\n",
      " [ 0.36232147]\n",
      " [ 0.32477074]\n",
      " [ 0.32938035]\n",
      " [ 0.34147549]\n",
      " [ 0.32298732]\n",
      " [ 0.47613394]\n",
      " [ 0.2180716 ]\n",
      " [ 0.19103058]\n",
      " [ 0.30984364]\n",
      " [ 0.36206491]\n",
      " [ 0.40734333]\n",
      " [ 0.41236592]\n",
      " [ 0.41090094]\n",
      " [ 0.37383245]\n",
      " [ 0.37583863]\n",
      " [ 0.36991663]\n",
      " [ 0.37544582]\n",
      " [ 0.55489959]\n",
      " [ 0.24883778]\n",
      " [ 0.24244357]\n",
      " [ 0.37356731]\n",
      " [ 0.37340511]\n",
      " [ 0.46868499]\n",
      " [ 0.47860026]\n",
      " [ 0.43959156]\n",
      " [ 0.44936472]\n",
      " [ 0.43573634]\n",
      " [ 0.40022993]\n",
      " [ 0.43039545]\n",
      " [ 0.58659013]\n",
      " [ 0.29336078]\n",
      " [ 0.25300787]\n",
      " [ 0.39901985]\n",
      " [ 0.42395248]\n",
      " [ 0.53553115]\n",
      " [ 0.52366356]\n",
      " [ 0.46341854]\n",
      " [ 0.4917023 ]\n",
      " [ 0.42024853]\n",
      " [ 0.44293699]\n",
      " [ 0.48218327]\n",
      " [ 0.63601626]\n",
      " [ 0.35421623]\n",
      " [ 0.2995924 ]\n",
      " [ 0.43339159]\n",
      " [ 0.49455594]\n",
      " [ 0.58764536]\n",
      " [ 0.56250884]\n",
      " [ 0.54685977]\n",
      " [ 0.55692284]\n",
      " [ 0.48238334]\n",
      " [ 0.51977065]\n",
      " [ 0.52480958]\n",
      " [ 0.66444345]\n",
      " [ 0.38686025]\n",
      " [ 0.34101446]\n",
      " [ 0.4620398 ]\n",
      " [ 0.51726338]\n",
      " [ 0.63380047]\n",
      " [ 0.58155554]\n",
      " [ 0.60170897]\n",
      " [ 0.58815037]\n",
      " [ 0.53142509]\n",
      " [ 0.55766311]\n",
      " [ 0.52878245]\n",
      " [ 0.70002281]\n",
      " [ 0.40340892]\n",
      " [ 0.37668248]\n",
      " [ 0.51408099]\n",
      " [ 0.57044774]\n",
      " [ 0.63594113]\n",
      " [ 0.64400826]\n",
      " [ 0.65048496]\n",
      " [ 0.6031787 ]\n",
      " [ 0.59312208]\n",
      " [ 0.6000737 ]\n",
      " [ 0.59268002]\n",
      " [ 0.77759628]\n",
      " [ 0.42839159]\n",
      " [ 0.4120674 ]\n",
      " [ 0.57074536]\n",
      " [ 0.64015984]\n",
      " [ 0.68693177]\n",
      " [ 0.72228993]\n",
      " [ 0.71023566]\n",
      " [ 0.68959416]\n",
      " [ 0.65105729]\n",
      " [ 0.62769156]\n",
      " [ 0.64804651]\n",
      " [ 0.85275181]\n",
      " [ 0.4802592 ]\n",
      " [ 0.45023925]\n",
      " [ 0.64568639]\n",
      " [ 0.69241564]\n",
      " [ 0.78916497]\n",
      " [ 0.79453195]\n",
      " [ 0.76997689]\n",
      " [ 0.7943955 ]\n",
      " [ 0.72538317]\n",
      " [ 0.68282925]\n",
      " [ 0.711735  ]\n",
      " [ 0.91796798]\n",
      " [ 0.54219699]\n",
      " [ 0.4995307 ]\n",
      " [ 0.7171218 ]\n",
      " [ 0.74497964]\n",
      " [ 0.91201086]\n",
      " [ 0.88151989]\n",
      " [ 0.81489523]\n",
      " [ 0.86147446]\n",
      " [ 0.7601313 ]\n",
      " [ 0.76056583]\n",
      " [ 0.79599971]\n",
      " [ 0.96657695]\n",
      " [ 0.63755318]\n",
      " [ 0.59914319]\n",
      " [ 0.72084799]\n",
      " [ 0.83697444]\n",
      " [ 0.95867518]\n",
      " [ 0.8914664 ]\n",
      " [ 0.91887243]\n",
      " [ 0.88914459]\n",
      " [ 0.83234636]\n",
      " [ 0.83302287]\n",
      " [ 0.76613708]\n",
      " [ 0.90584726]\n",
      " [ 0.5912917 ]\n",
      " [ 0.50842187]\n",
      " [ 0.66640056]\n",
      " [ 0.75613785]\n",
      " [ 0.87321903]\n",
      " [ 0.85757377]\n",
      " [ 0.86887986]\n",
      " [ 0.82924618]\n",
      " [ 0.81147582]\n",
      " [ 0.83217087]\n",
      " [ 0.77043529]\n",
      " [ 1.        ]\n",
      " [ 0.64250268]\n",
      " [ 0.57185411]\n",
      " [ 0.79168869]\n",
      " [ 0.84384013]\n",
      " [ 0.91166855]\n",
      " [ 0.93072107]\n",
      " [ 0.9292924 ]\n",
      " [ 0.87595419]\n",
      " [ 0.85957617]\n",
      " [ 0.86273198]\n",
      " [ 0.87642252]]\n"
     ]
    }
   ],
   "source": [
    "X_train = train_sc[:-1]\n",
    "y_train = train_sc[1:]\n",
    "\n",
    "X_test = test_sc[:-1]\n",
    "y_test = test_sc[1:]"
   ]
  },
  {
   "cell_type": "markdown",
   "metadata": {},
   "source": [
    "# Fully connected predictor"
   ]
  },
  {
   "cell_type": "code",
   "execution_count": 33,
   "metadata": {},
   "outputs": [],
   "source": [
    "from keras.models import Sequential\n",
    "from keras.layers import Dense\n",
    "import keras.backend as K\n",
    "from keras.callbacks import EarlyStopping"
   ]
  },
  {
   "cell_type": "code",
   "execution_count": 34,
   "metadata": {},
   "outputs": [
    {
     "name": "stdout",
     "output_type": "stream",
     "text": [
      "_________________________________________________________________\n",
      "Layer (type)                 Output Shape              Param #   \n",
      "=================================================================\n",
      "dense_1 (Dense)              (None, 12)                24        \n",
      "_________________________________________________________________\n",
      "dense_2 (Dense)              (None, 1)                 13        \n",
      "=================================================================\n",
      "Total params: 37\n",
      "Trainable params: 37\n",
      "Non-trainable params: 0\n",
      "_________________________________________________________________\n"
     ]
    }
   ],
   "source": [
    "K.clear_session()\n",
    "\n",
    "model = Sequential()\n",
    "model.add(Dense(12, input_dim=1, activation='relu'))\n",
    "model.add(Dense(1))\n",
    "model.compile(loss='mean_squared_error', optimizer='adam')\n",
    "model.summary()"
   ]
  },
  {
   "cell_type": "code",
   "execution_count": 35,
   "metadata": {
    "collapsed": true
   },
   "outputs": [],
   "source": [
    "early_stopping = EarlyStopping(monitor='loss', patience=1, verbose=1)"
   ]
  },
  {
   "cell_type": "code",
   "execution_count": 37,
   "metadata": {},
   "outputs": [
    {
     "name": "stdout",
     "output_type": "stream",
     "text": [
      "Epoch 1/200\n",
      "238/238 [==============================] - 0s 645us/step - loss: 0.2736\n",
      "Epoch 2/200\n",
      "238/238 [==============================] - 0s 673us/step - loss: 0.0727\n",
      "Epoch 3/200\n",
      "238/238 [==============================] - 0s 638us/step - loss: 0.0421\n",
      "Epoch 4/200\n",
      "238/238 [==============================] - 0s 637us/step - loss: 0.0355\n",
      "Epoch 5/200\n",
      "238/238 [==============================] - 0s 724us/step - loss: 0.0301\n",
      "Epoch 6/200\n",
      "238/238 [==============================] - 0s 741us/step - loss: 0.0258\n",
      "Epoch 7/200\n",
      "238/238 [==============================] - 0s 683us/step - loss: 0.0219\n",
      "Epoch 8/200\n",
      "238/238 [==============================] - 0s 797us/step - loss: 0.0190\n",
      "Epoch 9/200\n",
      "238/238 [==============================] - 0s 785us/step - loss: 0.0164\n",
      "Epoch 10/200\n",
      "238/238 [==============================] - 0s 762us/step - loss: 0.0147\n",
      "Epoch 11/200\n",
      "238/238 [==============================] - 0s 717us/step - loss: 0.0132\n",
      "Epoch 12/200\n",
      "238/238 [==============================] - 0s 766us/step - loss: 0.0125\n",
      "Epoch 13/200\n",
      "238/238 [==============================] - 0s 678us/step - loss: 0.0121\n",
      "Epoch 14/200\n",
      "238/238 [==============================] - 0s 858us/step - loss: 0.0116\n",
      "Epoch 15/200\n",
      "238/238 [==============================] - 0s 749us/step - loss: 0.0114\n",
      "Epoch 16/200\n",
      "238/238 [==============================] - 0s 708us/step - loss: 0.0113\n",
      "Epoch 17/200\n",
      "238/238 [==============================] - 0s 813us/step - loss: 0.0114\n",
      "Epoch 00017: early stopping\n"
     ]
    },
    {
     "data": {
      "text/plain": [
       "<keras.callbacks.History at 0x1a1f5c5910>"
      ]
     },
     "execution_count": 37,
     "metadata": {},
     "output_type": "execute_result"
    }
   ],
   "source": [
    "model.fit(X_train, y_train, epochs=200, batch_size=2, verbose=1, callbacks=[early_stopping])"
   ]
  },
  {
   "cell_type": "code",
   "execution_count": 38,
   "metadata": {
    "collapsed": true
   },
   "outputs": [],
   "source": [
    "y_pred = model.predict(X_test)"
   ]
  },
  {
   "cell_type": "code",
   "execution_count": 45,
   "metadata": {},
   "outputs": [
    {
     "data": {
      "text/plain": [
       "array([[ 0.99089581],\n",
       "       [ 0.65911889],\n",
       "       [ 0.61512506],\n",
       "       [ 0.80575353],\n",
       "       [ 0.85660648]], dtype=float32)"
      ]
     },
     "execution_count": 45,
     "metadata": {},
     "output_type": "execute_result"
    }
   ],
   "source": [
    "y_pred[:5]"
   ]
  },
  {
   "cell_type": "code",
   "execution_count": 46,
   "metadata": {},
   "outputs": [
    {
     "data": {
      "text/plain": [
       "[<matplotlib.lines.Line2D at 0x1a1f801cd0>]"
      ]
     },
     "execution_count": 46,
     "metadata": {},
     "output_type": "execute_result"
    },
    {
     "data": {
      "image/png": "[encoded data removed]",
      "text/plain": [
       "<matplotlib.figure.Figure at 0x1a1f8017d0>"
      ]
     },
     "metadata": {},
     "output_type": "display_data"
    }
   ],
   "source": [
    "plt.plot(y_test)\n",
    "plt.plot(y_pred)"
   ]
  },
  {
   "cell_type": "code",
   "execution_count": null,
   "metadata": {
    "collapsed": true
   },
   "outputs": [],
   "source": []
  }
 ],
 "metadata": {
  "kernelspec": {
   "display_name": "Python 2",
   "language": "python",
   "name": "python2"
  },
  "language_info": {
   "codemirror_mode": {
    "name": "ipython",
    "version": 2
   },
   "file_extension": ".py",
   "mimetype": "text/x-python",
   "name": "python",
   "nbconvert_exporter": "python",
   "pygments_lexer": "ipython2",
   "version": "2.7.14"
  }
 },
 "nbformat": 4,
 "nbformat_minor": 2
}
